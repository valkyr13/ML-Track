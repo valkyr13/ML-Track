{
 "cells": [
  {
   "cell_type": "code",
   "execution_count": 68,
   "metadata": {},
   "outputs": [],
   "source": [
    "from __future__ import print_function, division\n",
    "import torch\n",
    "import torch.nn as nn\n",
    "import torchvision\n",
    "from torch.utils import data\n",
    "import pandas as pd\n",
    "import matplotlib.pyplot as plt\n",
    "import os\n",
    "from skimage import io, transform\n",
    "\n",
    "from torch.utils.data import Dataset, DataLoader\n",
    "from torchvision import datasets, transforms, utils\n",
    "import warnings\n",
    "warnings.filterwarnings(\"ignore\")\n",
    "\n",
    "plt.ion()   # interactive mode\n"
   ]
  },
  {
   "cell_type": "code",
   "execution_count": 2,
   "metadata": {},
   "outputs": [],
   "source": [
    "import os\n",
    "from os.path import join\n",
    "import json\n",
    "import random\n",
    "import itertools\n",
    "import re\n",
    "import datetime\n",
    "import cairocffi as cairo\n",
    "import editdistance\n",
    "import numpy as np\n",
    "from scipy import ndimage\n",
    "import pylab\n",
    "import matplotlib.pyplot as plt\n",
    "import matplotlib.gridspec as gridspec\n",
    "from collections import Counter\n",
    "import cv2"
   ]
  },
  {
   "cell_type": "code",
   "execution_count": 3,
   "metadata": {},
   "outputs": [
    {
     "name": "stdout",
     "output_type": "stream",
     "text": [
      "Max plate length in \"anpr_ocr__train\": 8\n",
      "Max plate length in \"anpr_ocr__train\": 8\n",
      "Letters in train and val do match\n",
      "Letters: 0 1 2 3 4 5 6 7 8 9 A B C E H K M O P T X Y\n"
     ]
    }
   ],
   "source": [
    "def get_counter(dirpath, tag):\n",
    "    dirname = os.path.basename(dirpath)\n",
    "    ann_dirpath = join(dirpath, 'ann')\n",
    "    letters = ''\n",
    "    lens = []\n",
    "    for filename in os.listdir(ann_dirpath):\n",
    "        json_filepath = join(ann_dirpath, filename)\n",
    "        ann = json.load(open(json_filepath, 'r'))\n",
    "        tags = ann['tags']\n",
    "        if tag in tags:\n",
    "            description = ann['description']\n",
    "            lens.append(len(description))\n",
    "            letters += description\n",
    "    print('Max plate length in \"%s\":' % dirname, max(Counter(lens).keys()))\n",
    "    return Counter(letters)\n",
    "c_val = get_counter('data/anpr_ocr__train', 'val')\n",
    "c_train = get_counter('data/anpr_ocr__train', 'train')\n",
    "letters_train = set(c_train.keys())\n",
    "letters_val = set(c_val.keys())\n",
    "if letters_train == letters_val:\n",
    "    print('Letters in train and val do match')\n",
    "else:\n",
    "    raise Exception()\n",
    "# print(len(letters_train), len(letters_val), len(letters_val | letters_train))\n",
    "letters = sorted(list(letters_train))\n",
    "print('Letters:', ' '.join(letters))"
   ]
  },
  {
   "cell_type": "code",
   "execution_count": 4,
   "metadata": {},
   "outputs": [],
   "source": [
    "def labels_to_text(labels):\n",
    "    return ''.join(list(map(lambda x: letters[int(x)], labels)))\n",
    "\n",
    "def text_to_labels(text):\n",
    "    return list(map(lambda x: letters.index(x), text))\n",
    "\n",
    "def is_valid_str(s):\n",
    "    for ch in s:\n",
    "        if not ch in letters:\n",
    "            return False\n",
    "    return True\n"
   ]
  },
  {
   "cell_type": "code",
   "execution_count": 161,
   "metadata": {},
   "outputs": [],
   "source": [
    "class NumberPlateDataset(Dataset):\n",
    "    def __init__(self,dirpath):\n",
    "                 #,img_h, img_w):\n",
    "       # self.img_w = img_w\n",
    "       # self.img_h = img_h\n",
    "        self.dirpath = dirpath       \n",
    "   \n",
    "    def __getitem__(self, i):\n",
    "        #the description of image\n",
    "        img_dirpath = join(self.dirpath, 'img')\n",
    "        print(img_dirpath)\n",
    "        self.label = []\n",
    "        filename = os.listdir(img_dirpath)\n",
    "        name, ext = os.path.splitext(filename[i])\n",
    "        print(name,ext)\n",
    "        self.label.append([name])\n",
    "        \n",
    "        #reading the images in folder \"img\"\n",
    "        #img = cv2.imread(join(img_dirpath,filename[i]))\n",
    "        img = io.imread(join(img_dirpath,filename[i]))\n",
    "        #img = Image.open(join(img_dirpath,filename[i]))\n",
    "\n",
    "        print(filename[i])\n",
    "        \n",
    "        img = cv2.cvtColor(img, cv2.COLOR_BGR2GRAY)\n",
    "       # img = cv2.resize(img, (self.img_h, self.img_w))\n",
    "        img = img.astype(np.float32)\n",
    "        #img /= 255\n",
    "        print(np.shape(img))\n",
    "        sample = {'image': img}\n",
    "        return sample, self.label\n",
    "    \n",
    "    def __len__(self):\n",
    "        img_dirpath = join(self.dirpath, 'img')\n",
    "        filename = os.listdir(img_dirpath)\n",
    "        return len(filename)"
   ]
  },
  {
   "cell_type": "code",
   "execution_count": 162,
   "metadata": {},
   "outputs": [],
   "source": [
    "plate_dataset = NumberPlateDataset(dirpath='data/anpr_ocr__train')\n",
    "                                   #,img_h = 64,img_w=128 )"
   ]
  },
  {
   "cell_type": "code",
   "execution_count": null,
   "metadata": {},
   "outputs": [],
   "source": []
  },
  {
   "cell_type": "code",
   "execution_count": 144,
   "metadata": {},
   "outputs": [],
   "source": [
    "def imgshow_(dirpath):\n",
    "             #,  img_h, img_w)\n",
    "    #self.dirpath = dirpath  \n",
    "    img_dirpath = join(dirpath, 'img')\n",
    "    print(img_dirpath)\n",
    "    \n",
    "    filename = os.listdir(img_dirpath)        \n",
    "    #reading the images in folder \"img\"\n",
    "    #img = cv2.imread(join(img_dirpath,filename[i]))\n",
    "    img = io.imread(join(img_dirpath,filename[i]), as_grey = True)\n",
    "        #img = Image.open(join(img_dirpath,filename[i]))\n",
    "\n",
    "    print(filename[i])\n",
    "    print(np.shape(img))\n",
    "    #img = cv2.cvtColor(img, cv2.COLOR_BGR2GRAY)\n",
    "   # img = cv2.resize(img, (self.img_h, self.img_w))\n",
    "    #img = img.astype(np.float32)\n",
    "    img /= 255\n",
    "    plt.show() "
   ]
  },
  {
   "cell_type": "code",
   "execution_count": 109,
   "metadata": {},
   "outputs": [
    {
     "name": "stdout",
     "output_type": "stream",
     "text": [
      "data/anpr_ocr__train/img\n",
      "M832XM11.png\n",
      "(34, 152, 3)\n"
     ]
    }
   ],
   "source": [
    "p_dataset = imgshow_(dirpath='data/anpr_ocr__train')"
   ]
  },
  {
   "cell_type": "code",
   "execution_count": 93,
   "metadata": {},
   "outputs": [],
   "source": [
    "transformed_dataset = FaceLandmarksDataset(csv_file='faces/face_landmarks.csv',\n",
    "                                           root_dir='faces/' )\n"
   ]
  },
  {
   "cell_type": "code",
   "execution_count": 164,
   "metadata": {},
   "outputs": [
    {
     "name": "stdout",
     "output_type": "stream",
     "text": [
      "data/anpr_ocr__train/img\n",
      "A676AP95 .png\n",
      "A676AP95.png\n",
      "(34, 152)\n",
      "<class 'tuple'>\n",
      "0 (2,)\n"
     ]
    },
    {
     "data": {
      "image/png": "[encoded data removed]",
      "text/plain": [
       "<matplotlib.figure.Figure at 0x7f7081bb47b8>"
      ]
     },
     "metadata": {},
     "output_type": "display_data"
    },
    {
     "name": "stdout",
     "output_type": "stream",
     "text": [
      "data/anpr_ocr__train/img\n",
      "H375OY42 .png\n",
      "H375OY42.png\n",
      "(34, 152)\n",
      "<class 'tuple'>\n",
      "1 (2,)\n"
     ]
    },
    {
     "data": {
      "image/png": "[encoded data removed]",
      "text/plain": [
       "<matplotlib.figure.Figure at 0x7f70815b6160>"
      ]
     },
     "metadata": {},
     "output_type": "display_data"
    },
    {
     "name": "stdout",
     "output_type": "stream",
     "text": [
      "data/anpr_ocr__train/img\n",
      "B880KH57 .png\n",
      "B880KH57.png\n",
      "(34, 152)\n",
      "<class 'tuple'>\n",
      "2 (2,)\n"
     ]
    },
    {
     "data": {
      "image/png": "[encoded data removed]",
      "text/plain": [
       "<matplotlib.figure.Figure at 0x7f708141cc88>"
      ]
     },
     "metadata": {},
     "output_type": "display_data"
    },
    {
     "name": "stdout",
     "output_type": "stream",
     "text": [
      "data/anpr_ocr__train/img\n",
      "M832XM11 .png\n",
      "M832XM11.png\n",
      "(34, 152)\n",
      "<class 'tuple'>\n",
      "3 (2,)\n"
     ]
    },
    {
     "data": {
      "image/png": "[encoded data removed]",
      "text/plain": [
       "<matplotlib.figure.Figure at 0x7f708180fa20>"
      ]
     },
     "metadata": {},
     "output_type": "display_data"
    }
   ],
   "source": [
    "for i in range(len(plate_dataset)):\n",
    "    sample = plate_dataset[i]\n",
    "    print(type(sample))\n",
    "    print(i,np.shape(sample))\n",
    "    i_mage = sample[0]\n",
    "    #print(sample['image'])\n",
    "    ax = plt.subplot(1, 4, i + 1)\n",
    "    plt.tight_layout()\n",
    "    #ax.axis('off')\n",
    "    plt.show(i_mage)\n",
    "    if i == 3:     \n",
    "        break\n",
    "  "
   ]
  },
  {
   "cell_type": "code",
   "execution_count": null,
   "metadata": {},
   "outputs": [],
   "source": []
  }
 ],
 "metadata": {
  "kernelspec": {
   "display_name": "Python 3",
   "language": "python",
   "name": "python3"
  },
  "language_info": {
   "codemirror_mode": {
    "name": "ipython",
    "version": 3
   },
   "file_extension": ".py",
   "mimetype": "text/x-python",
   "name": "python",
   "nbconvert_exporter": "python",
   "pygments_lexer": "ipython3",
   "version": "3.6.4"
  }
 },
 "nbformat": 4,
 "nbformat_minor": 2
}
