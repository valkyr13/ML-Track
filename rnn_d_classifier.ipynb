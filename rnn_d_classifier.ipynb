{
 "cells": [
  {
   "cell_type": "code",
   "execution_count": 1,
   "metadata": {},
   "outputs": [],
   "source": [
    "import torch\n",
    "import torch.nn as nn\n",
    "import torchvision\n",
    "\n",
    "from torch.utils.data import DataLoader\n",
    "from torchvision import datasets, transforms"
   ]
  },
  {
   "cell_type": "code",
   "execution_count": 2,
   "metadata": {},
   "outputs": [
    {
     "name": "stdout",
     "output_type": "stream",
     "text": [
      "60000 train samples\n",
      "10000 test samples\n",
      "\n",
      "10\n"
     ]
    }
   ],
   "source": [
    "transform = transforms.Compose(\n",
    "    [transforms.ToTensor(),\n",
    "     transforms.Normalize((0.5,), (0.5,))])\n",
    "\n",
    "train_dataset = torchvision.datasets.MNIST(root='./data',train=True, transform=transform, download=True)\n",
    "trainloader = torch.utils.data.DataLoader(train_dataset, batch_size=100,\n",
    "                                          shuffle=True)\n",
    "test_dataset = torchvision.datasets.MNIST(root='./data',train=False, transform=transform,download = True)\n",
    "testloader = torch.utils.data.DataLoader(test_dataset, batch_size=100,\n",
    "                                         shuffle=False)\n",
    "print(trainloader.__len__()*trainloader.batch_size, 'train samples')\n",
    "print(testloader.__len__()*testloader.batch_size, 'test samples\\n')\n",
    "\n",
    "classes = ('zero' , 'one', 'two', 'three', 'four' , 'five' ,'six', 'seven' , 'eight' ,'nine')\n",
    "c_len = len(classes)\n",
    "print(c_len)"
   ]
  },
  {
   "cell_type": "code",
   "execution_count": 4,
   "metadata": {},
   "outputs": [
    {
     "name": "stdout",
     "output_type": "stream",
     "text": [
      "seven  nine three   two eight  five   one  four eight eight  five  four seven  nine  nine eight eight  zero seven   one   six   two  five   six  five   two three   two   one three  five seven  four  four  zero three  five eight  nine  four  nine   one  zero  five  five seven  zero  nine seven   one three   six  zero  four   one  four  nine  zero  four three   one  four eight seven seven  nine  four   one  nine   two seven seven three  nine  zero  five   two  five  five   one   one eight  four  five  zero  five   six eight  nine  five  nine   one   two three eight  four  zero  zero three   six\n"
     ]
    },
    {
     "data": {
      "image/png": "[encoded data removed]",
      "text/plain": [
       "<matplotlib.figure.Figure at 0x7f7a6286f390>"
      ]
     },
     "metadata": {},
     "output_type": "display_data"
    }
   ],
   "source": [
    "import matplotlib.pyplot as plt\n",
    "import numpy as np\n",
    "\n",
    "# functions to show an image\n",
    "\n",
    "\n",
    "def imshow(img):\n",
    "    img = img / 2 + 0.5     # unnormalize\n",
    "    npimg = img.numpy()\n",
    "    plt.imshow(np.transpose(npimg, (1, 2, 0)))\n",
    "\n",
    "\n",
    "# get some random training images\n",
    "dataiter = iter(trainloader)\n",
    "images, labels = dataiter.next()\n",
    "\n",
    "# show images\n",
    "imshow(torchvision.utils.make_grid(images))\n",
    "# print labels\n",
    "print(' '.join('%5s' % classes[labels[j]] for j in range(100)))"
   ]
  },
  {
   "cell_type": "code",
   "execution_count": 16,
   "metadata": {},
   "outputs": [],
   "source": [
    "feature_length = 28 #length of features at a time step\n",
    "input_size = 28 #time-steps length\n",
    "output_size = c_len #number of classes\n",
    "num_layers = 1\n",
    "hidden_size = 64"
   ]
  },
  {
   "cell_type": "code",
   "execution_count": 17,
   "metadata": {},
   "outputs": [
    {
     "name": "stdout",
     "output_type": "stream",
     "text": [
      "RNN(\n",
      "  (rnn): RNN(28, 64, batch_first=True)\n",
      "  (fc): Linear(in_features=64, out_features=10, bias=True)\n",
      ")\n"
     ]
    }
   ],
   "source": [
    "class RNN(nn.Module):\n",
    "    def __init__(self, input_size, feature_length, num_layers, output_size):\n",
    "        super(RNN, self).__init__()\n",
    "        # define all the components that will be used in the NN (these can be reused)\n",
    "        self.rnn = nn.RNN(input_size,hidden_size, batch_first=True)\n",
    "        self.fc = nn.Linear(hidden_size, output_size)\n",
    "\n",
    "    def forward(self, x):\n",
    "        # define the acutal network\n",
    "        h0 = torch.zeros(num_layers, x.size(0), hidden_size)\n",
    "        output, _ = self.rnn(x, h0) \n",
    "        output = self.fc(output[:, -1, :])\n",
    "        return output\n",
    "        \n",
    "\n",
    "rnn = RNN(input_size, feature_length, num_layers, output_size)\n",
    "print(rnn)"
   ]
  },
  {
   "cell_type": "code",
   "execution_count": 20,
   "metadata": {},
   "outputs": [],
   "source": [
    "import torch.optim as optim\n",
    "\n",
    "\n",
    "criterion = nn.CrossEntropyLoss()\n",
    "optimizer = torch.optim.Adam(rnn.parameters(), lr=0.001)"
   ]
  },
  {
   "cell_type": "code",
   "execution_count": 23,
   "metadata": {},
   "outputs": [
    {
     "name": "stdout",
     "output_type": "stream",
     "text": [
      "[1,   200] loss: 0.278\n",
      "[1,   400] loss: 0.270\n",
      "[1,   600] loss: 0.259\n",
      "[2,   200] loss: 0.261\n",
      "[2,   400] loss: 0.244\n",
      "[2,   600] loss: 0.242\n",
      "[3,   200] loss: 0.226\n",
      "[3,   400] loss: 0.226\n",
      "[3,   600] loss: 0.221\n",
      "[4,   200] loss: 0.206\n",
      "[4,   400] loss: 0.211\n",
      "[4,   600] loss: 0.208\n",
      "Finished Training\n"
     ]
    }
   ],
   "source": [
    " num_epochs = 4\n",
    "# Train the model\n",
    "total_step = len(trainloader)\n",
    "for epoch in range(num_epochs):\n",
    "    \n",
    "    running_loss = 0.0\n",
    "    for i, (images, labels) in enumerate(trainloader):\n",
    "        \n",
    "        images = images.reshape(-1, feature_length, input_size)\n",
    "        labels = labels\n",
    "        \n",
    "        \n",
    "        # forward + backward + optimize\n",
    "        outputs = rnn(images)\n",
    "        loss = criterion(outputs, labels)     \n",
    "        optimizer.zero_grad()\n",
    "        loss.backward()\n",
    "        optimizer.step()\n",
    "        \n",
    "        \n",
    "          \n",
    "      # print statistics\n",
    "        running_loss += loss.item()\n",
    "        if i % 200 == 199:    # print every 200 mini-batches\n",
    "            print('[%d, %5d] loss: %.3f' %\n",
    "                  (epoch + 1, i + 1, running_loss / 200))\n",
    "            running_loss = 0.0\n",
    "\n",
    "print('Finished Training')\n",
    "       \n",
    "    \n",
    "  "
   ]
  },
  {
   "cell_type": "code",
   "execution_count": 24,
   "metadata": {},
   "outputs": [
    {
     "name": "stdout",
     "output_type": "stream",
     "text": [
      "Accuracy of the network on the 10000 test images: 97 %\n"
     ]
    }
   ],
   "source": [
    "correct = 0\n",
    "total = 0\n",
    "with torch.no_grad():\n",
    "    for data in testloader:\n",
    "        images = images.reshape(-1, feature_length, input_size)\n",
    "        labels = labels\n",
    "        outputs = rnn(images)\n",
    "        _, predicted = torch.max(outputs.data, 1)\n",
    "        total += labels.size(0)\n",
    "        correct += (predicted == labels).sum().item()\n",
    "\n",
    "print('Accuracy of the network on the 10000 test images: %d %%' % (\n",
    "    100 * correct / total))"
   ]
  }
 ],
 "metadata": {
  "kernelspec": {
   "display_name": "Python 3",
   "language": "python",
   "name": "python3"
  },
  "language_info": {
   "codemirror_mode": {
    "name": "ipython",
    "version": 3
   },
   "file_extension": ".py",
   "mimetype": "text/x-python",
   "name": "python",
   "nbconvert_exporter": "python",
   "pygments_lexer": "ipython3",
   "version": "3.6.4"
  }
 },
 "nbformat": 4,
 "nbformat_minor": 2
}
